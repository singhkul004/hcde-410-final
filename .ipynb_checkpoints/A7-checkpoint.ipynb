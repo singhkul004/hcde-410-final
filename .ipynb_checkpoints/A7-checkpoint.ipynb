{
 "cells": [
  {
   "cell_type": "markdown",
   "id": "53111311-d8f4-4b89-bfde-9836eb629761",
   "metadata": {
    "jp-MarkdownHeadingCollapsed": true
   },
   "source": [
    "## Introduction \n",
    "Student mental health is a growing concern, and academic pressure plays a huge role in shaping how students feel about their studies and themselves. While a little pressure can push students to do well, too much of it can lead to burnout, frustration, and even depression. This makes it important to look at how academic pressure and study satisfaction connect—and what we can do about it.\n",
    "\n",
    "What makes this especially relevant is that study satisfaction isn’t just some fixed thing. It’s something we can influence by changing how we structure education. From adjusting workloads to creating healthier academic environments, schools and educators have a real opportunity to reduce unnecessary stress and make learning a more positive experience. This means that understanding the relationship between academic pressure and study satisfaction isn’t just theoretical—it’s practical and actionable.\n",
    "\n",
    "This analysis tackles an unresolved question in education and mental health: how can we better balance academic expectations with student well-being? While it’s well-known that academic pressure contributes to mental health challenges, less attention has been paid to how satisfaction with studying mediates this relationship. By analyzing this connection, the research can offer schools, policymakers, and mental health professionals valuable insights into where interventions can have the most impact. It’s not just about understanding the problem—it’s about solving it in ways that directly improve the academic and mental health outcomes of students.\n",
    "\n",
    "This project will explore the research question of: How does academic pressure affect study satisfaction, and how does this relationship contribute to the likelihood of depression among students?\n",
    "\n",
    "### Problem Statement\n",
    "Academic pressure is a major stressor for students, often impacting their mental health and study satisfaction. While some pressure can drive performance, excessive pressure may lead to dissatisfaction, burnout, and depression.\n",
    "\n",
    "This study explores the relationship between academic pressure and study satisfaction, hypothesizing that higher pressure reduces satisfaction and increases the risk of depression. By understanding these links, we aim to identify areas where interventions can support students' academic and mental well-being, fostering a balanced environment that promotes both success and health.\n",
    "### Hypothesis\n",
    "If academic pressure increases, then study satisfaction will decrease, because excessive pressure creates stress and frustration that diminish students' ability to enjoy or feel fulfilled by their studies. This reduced satisfaction is likely to increase the risk of depression, as dissatisfaction and stress compound to negatively impact mental health."
   ]
  },
  {
   "cell_type": "markdown",
   "id": "9a7b3659-7a74-411e-a811-b2338c1b8656",
   "metadata": {},
   "source": [
    "## Background & Research\n",
    "Academic pressure is a large factor influencing students' mental health and overall well-being. Excessive academic demands can lead to stress, reduced study satisfaction, and an increased risk of depression. Understanding the relationship between academic pressure, study satisfaction, and depression is necessary for developing effective interventions to support students such as more impactful satisfactions from assignments.\n",
    "\n",
    "Research indicates that high levels of academic stress are associated with increased anxiety and depression among students. Bernal-Morales et al. (2015) found that academic-related stress adversely affects students' mental and physical health, leading to a range of academic and personal problems [1].\n",
    "\n",
    "Additionally, a study by Yang et al. highlighted that students often cite academic-related pressures, such as ongoing study, writing papers, and preparing for tests, as key daily stressors [2]. \n",
    "\n",
    "The relationship between academic pressure and study satisfaction is also noteworthy. High academic pressure can diminish students' enjoyment and fulfillment in their studies, leading to decreased study satisfaction. This dissatisfaction may further contribute to mental health issues, including depression. A study published in the Journal of Youth and Adolescence examined the associations between academic stress, academic self-efficacy, and psychological distress, highlighting the complex relationships between these factors [3]. \n",
    "\n",
    "Furthermore, the COVID-19 pandemic has increased these issues. Studies have shown that students experienced heightened levels of stress and anxiety during the pandemic, with academic stress being a significant contributor. The shift to online learning and the uncertainty that came with the pandemic have intensified academic pressures, negatively impacting students' mental health [4]. \n",
    "\n",
    "In summary, existing literature underscores the detrimental effects of excessive academic pressure on students' study satisfaction and mental health. Addressing these issues is essential for fostering a supportive academic environment that promotes both educational success and mental well-being.\n",
    "\n",
    "#### References:\n",
    "Please refer to references placed at bottom of report."
   ]
  },
  {
   "cell_type": "markdown",
   "id": "9fe4614b-3860-4c78-b8bf-98b5c7545f5c",
   "metadata": {},
   "source": [
    "## Data Source \n",
    "The dataset for this study is the Depression Student Dataset, sourced from Kaggle. It includes 502 entries with 11 features that cover a range of factors like academic pressure, study satisfaction, sleep duration, financial stress, and depression status. This dataset is a great fit for our research because it focuses on the kinds of variables that directly tie into academic and mental health experiences.\n",
    "\n",
    "What makes this dataset useful is its mix of categorical variables (like gender and family history of mental illness) and numerical ones (like academic pressure and study hours). This balance gives us the flexibility to explore correlations and relationships from multiple angles. Plus, being open-source means the data is transparent and reproducible, which is key for building credible insights.\n",
    "\n",
    "However, there are some concerns we need to keep in mind. The dataset is relatively small with just 502 entries, so while it’s good for identifying trends, it might not be fully representative of the broader student population. Additionally, we don’t have detailed context about how the data was collected, which could introduce biases or limit how broadly we can apply our findings. These are important factors to consider as we analyze and interpret the results.\n",
    "                                                                                                      \n",
    "Link: https://www.kaggle.com/datasets/ikynahidwin/depression-student-dataset\n",
    "License: Creative Commons CCZero License (Publicly available data/license)\n"
   ]
  },
  {
   "cell_type": "markdown",
   "id": "e2cf0970-e1d7-4131-b875-4844c1d54170",
   "metadata": {},
   "source": [
    "## Methods\n",
    "This study used a structured approach to explore the relationship between academic pressure and study satisfaction, combining visual exploration with statistical analysis to uncover meaningful insights. We started with histograms and box plots to get a clear picture of how academic pressure and study satisfaction were distributed across the dataset. These tools were chosen because they’re straightforward yet effective for identifying patterns without making assumptions, providing a foundation for deeper analysis.\n",
    "\n",
    "From there, we applied statistical methods like the Pearson correlation coefficient, grouped means analysis, and linear regression modeling. These methods were picked because they allow us to quantify relationships and test our hypothesis in a way that’s both precise and meaningful. The Pearson correlation helped measure the strength and direction of the relationship, while grouped means analysis showed how satisfaction levels varied at different pressure points. Linear regression then gave us a way to look at academic pressure’s overall impact on satisfaction while controlling for other factors.\n",
    "\n",
    "Throughout the study, human-centered considerations guided our choices. By focusing on open-source, anonymized data, we avoided any risk of exposing personal information or making unfair generalizations. We also designed the analysis to stay objective, using methods that highlight trends without forcing causal interpretations. This approach ensured that our work not only provided insights but also aligned with the broader goal of supporting students’ well-being and academic experiences."
   ]
  },
  {
   "cell_type": "markdown",
   "id": "4e53b833-2292-47f2-9bc6-e46b964d987e",
   "metadata": {},
   "source": [
    "## Findings: \n",
    "\n",
    "The research question asked: How does academic pressure affect study satisfaction, and how does this relationship contribute to the likelihood of depression among students?\n",
    "\n",
    "Through the analysis, I found a statistically significant but weak negative relationship between academic pressure and study satisfaction. The Pearson correlation coefficient (r=−0.10, p=0.023) confirmed that higher academic pressure tends to reduce study satisfaction slightly. This aligns with the hypothesis that academic pressure negatively impacts study satisfaction. However, the effect size is small, suggesting that while academic pressure influences satisfaction, other factors also play a significant role.\n",
    "\n",
    "The bar plot provided additional clarity, showing a slight decline in average study satisfaction as academic pressure levels increased. This visualization emphasized how satisfaction varied systematically across pressure levels, reinforcing the hypothesis.\n",
    "\n",
    "The heatmap revealed that academic pressure’s correlation with study satisfaction, while weak, exists within a network of other relationships. For example, financial stress and study hours also showed potential influences on study satisfaction, suggesting they may act as confounders or additional contributing factors.\n",
    "\n",
    "Finally, the regression model quantified the impact of academic pressure on study satisfaction, with a coefficient of -0.100 (p=0.023) and 𝑅2=0.010. While statistically significant, this result indicates that academic pressure explains only 1% of the variance in satisfaction, highlighting the complexity of the relationship.\n",
    "\n",
    "The findings confirm the hypothesis that academic pressure negatively impacts study satisfaction, but the effect is not as pronounced as anticipated. This shows that while academic pressure is a factor, it is not the sole component of study satisfaction. These results are relevant because they highlight the need to consider other influences, such as financial stress or support systems when addressing student well-being."
   ]
  },
  {
   "cell_type": "markdown",
   "id": "da83cee8-6557-4dd8-8cc0-f6f3b1ce9301",
   "metadata": {},
   "source": [
    "## Discussion/Implications: \n",
    "One of the limitations of my study is the dataset itself. With only 502 entries, it’s difficult to confidently generalize the findings to a broader student population. The data also relies on self-reported variables like academic pressure and study satisfaction, which introduces the possibility of bias—students may overestimate or underestimate their feelings based on personal perception. Additionally, the relationships observed, while statistically significant, showed small effect sizes (r=−0.10, R2=0.010), meaning academic pressure alone doesn’t explain much of the variation in study satisfaction. This highlights the complexity of the issue and the likely influence of other factors we couldn’t measure, like social support or external stressors. Finally, the dataset captures a single point in time, which limits the ability to conclude how these relationships evolve.\n",
    "\n",
    "Even with these limitations, what was found is still important. The link between academic pressure and study satisfaction, though small, underscores the impact of balancing workloads and student well-being. It’s a reminder that academic systems need to do more than just push for high performance—they need to create environments where students can thrive without being overwhelmed. While academic pressure isn’t the only factor driving dissatisfaction, it’s a piece of the puzzle, and recognizing that is a step toward making meaningful changes in how we approach education. These findings are a starting point for rethinking how we balance achievement with mental health.\n",
    "\n",
    "Future research can build on this study in some exciting ways. Expanding the dataset to include a larger, more diverse population would help us see whether these trends hold across different schools, regions, and student groups. Longitudinal studies could track students over time to better understand how academic pressure and satisfaction change, and whether they lead to lasting impacts on mental health. Including more variables, like social support or access to mental health resources, would give us a fuller picture of what’s influencing satisfaction. And diving into qualitative insights, like interviews or surveys, could bring context to the numbers, showing us the human stories behind the data. Most importantly, future studies could focus on testing specific interventions—like changes in workload or mental health programs—to figure out what works in creating a healthier balance for students.\n",
    "\n"
   ]
  },
  {
   "cell_type": "markdown",
   "id": "7be6c0e0-a8b6-43a7-80d6-35c131ebffc4",
   "metadata": {},
   "source": [
    "## Conclusion:\n",
    "This research focused on understanding how academic pressure affects study satisfaction and how this relationship contributes to the likelihood of depression among students. I hypothesized that higher academic pressure would negatively impact study satisfaction, potentially increasing the risk of depression. Our analysis revealed a weak but statistically significant negative relationship (r=−0.10, p=0.023), supported by regression findings showing a small impact of academic pressure on satisfaction (R2=0.010). Visualizations, including bar plots and heatmaps, further highlighted trends and correlations, showing that while academic pressure plays a role, its effect is limited alongside other factors. This study highlights the importance of human-centered datasets in capturing nuanced experiences, such as the challenges students face in balancing academic demands with well-being. By grounding statistical analyses in real-world contexts, I demonstrated how data can inform actionable insights for educators and policymakers to improve student satisfaction and mental health. Though the relationships we uncovered were modest at best, they point to systemic issues in education that could benefit from more human-centered interventions, underscoring the need for empathetic and equitable approaches to data analysis."
   ]
  },
  {
   "cell_type": "markdown",
   "id": "81669c86-81ba-4043-adad-cbe98e4f35af",
   "metadata": {},
   "source": [
    "## References: \n",
    "[1] Talley, Kamryn. Understanding the Impact of Academic Pressure on Student Mental Health. 15 May 2015, pp. 1–25, scholarworks.calstate.edu/downloads/rj430c89c? Accessed 26 Nov. 2024.\n",
    "\n",
    "[2] Deng, Yuwei. “Family and Academic Stress and Their Impact on Students’ Depression Level and Academic Performance.” Frontiers in Psychiatry, vol. 13, no. 869337, 2022, www.ncbi.nlm.nih.gov/pmc/articles/PMC9243415/, https://doi.org/10.3389/fpsyt.2022.869337.\n",
    "\n",
    "[3] Kristensen, Sara Madeleine, et al. “Academic Stress, Academic Self-Efficacy, and Psychological Distress: A Moderated Mediation of Within-Person Effects.” Journal of Youth and Adolescence, vol. 52, no. 7, 30 Mar. 2023, https://doi.org/10.1007/s10964-023-01770-1.\n",
    "\n",
    "[4] “Mental Health during the COVID-19 Pandemic.” Wikipedia, 23 Sept. 2020, en.wikipedia.org/wiki/Mental_health_during_the_COVID-19_pandemic.\n",
    "\n",
    "[5] OpenAI. (2024). ChatGPT: Language model insights and assistance for data analysis and research. Retrieved from https://openai.com/chatgpt - Used for code generation\n",
    "\n"
   ]
  }
 ],
 "metadata": {
  "kernelspec": {
   "display_name": "Python 3 (ipykernel)",
   "language": "python",
   "name": "python3"
  },
  "language_info": {
   "codemirror_mode": {
    "name": "ipython",
    "version": 3
   },
   "file_extension": ".py",
   "mimetype": "text/x-python",
   "name": "python",
   "nbconvert_exporter": "python",
   "pygments_lexer": "ipython3",
   "version": "3.10.13"
  }
 },
 "nbformat": 4,
 "nbformat_minor": 5
}
