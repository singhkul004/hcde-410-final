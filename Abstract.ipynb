{
 "cells": [
  {
   "cell_type": "markdown",
   "id": "d6fa238b-739a-4cd8-9e4d-596f6be26523",
   "metadata": {},
   "source": [
    "# The Impact of Academic Pressure on Study Satisfaction and Implications for Student Well-being\n",
    "\n",
    "## Abstract\n",
    "This study explores how academic pressure impacts study satisfaction and its potential link to depression. Using the Depression Student Dataset (502 entries), we found a weak but statistically significant negative correlation (r=−0.10, p=0.023), with regression analysis confirming that academic pressure slightly reduces satisfaction (𝑅2=0.010). While the effect size is small, the findings highlight the need for balanced academic environments. Future research should expand on these results with larger datasets and additional variables to better understand and address factors influencing student well-being."
   ]
  }
 ],
 "metadata": {
  "kernelspec": {
   "display_name": "Python 3 (ipykernel)",
   "language": "python",
   "name": "python3"
  },
  "language_info": {
   "codemirror_mode": {
    "name": "ipython",
    "version": 3
   },
   "file_extension": ".py",
   "mimetype": "text/x-python",
   "name": "python",
   "nbconvert_exporter": "python",
   "pygments_lexer": "ipython3",
   "version": "3.10.13"
  }
 },
 "nbformat": 4,
 "nbformat_minor": 5
}
