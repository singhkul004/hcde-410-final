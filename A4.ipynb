{
 "cells": [
  {
   "cell_type": "markdown",
   "id": "225c07a4-5411-455a-8b34-19655a28ea8c",
   "metadata": {},
   "source": [
    "# HCDE 410 Final"
   ]
  },
  {
   "cell_type": "markdown",
   "id": "a886d05f-8cc3-46c4-b15d-852992520d08",
   "metadata": {},
   "source": [
    "## Overview \n",
    "AI applications are becoming prevalent in every aspect of our lives, professionally and personally. In the exploration of \n",
    "how to foster trust in these applications as they execute a variety of complex tasks, I have come across the key understanding that our applications potentially create further disparity in people's ability to accomplish goals. Every AI application needs to be interacted with in Natural Language at a high level to effectively tap into its value, yet not every adult in the USA is literate enough to even do so. This poses an issue as there is a significant technology-enabled advantage that comes with AI, however, not every person  or user is capable of using AI to its best ability because of the technological friction that comes with language. From a human-centered perspective, analyzing the literacy of Adults in the US provides us insight into the demographics, types of literacy gaps, and potential disabilities the population may host as a whole. Empathizing with these situations is the approach needed to design AI applications that overcome the gaps instead of creating a larger disparity between people. I hope to learn the specific demographics and types of individuals at a literacy rate that we can deem invaluable to use existing AI applications and leverage those insights to determine the gap between existing AI application users and users unable to use those platforms. This is a qualitative and quantitative analysis of literacy in the United States and its ability to help in AI applications.\n",
    "\n",
    "This project will explore the literacy rates of adults in the US to answer the question: What ratio of Adults in the US are literate enough to effectively leverage AI applications?\n",
    "\n",
    "### Problem Statement\n",
    "The literacy that is required to leverage AI systems effectively is extremely high. To better understand the types of applications that can and should be designed, we need to understand the patterns of literacy that exist across the US, especially in the manners that are important for the use of AI Applications. Hence, we will look to identify the ratio of necessary literacy in US adults to leverage AI applications.\n",
    "\n",
    "### Hypothesis\n",
    "If we look at the qualitative analysis of the literacy of adults in the US, then we will find that at least 50% of the general population does not have the literacy to leverage an AI application, because English is an extremely nuanced language and the working population that are native speakers and labor roles would not host the ability to leverage these applications. "
   ]
  },
  {
   "cell_type": "markdown",
   "id": "1b540b4b-5b28-4bc8-88d7-04f7c46a19b1",
   "metadata": {},
   "source": [
    "## Background & Research\n",
    "Research in adult literacy in the U.S. has shown that a large portion of the population lacks the necessary skills to perform tasks that require complex reading comprehension. The National Assessment of Adult Literacy (NAAL) has found that nearly 50% of U.S. adults have low literacy levels, meaning they can only understand simple texts and instructions, but struggle with more intricate language processing tasks (National Center for Education Statistics, 2003). This is particularly significant when considering that many AI platforms require users to interact through written prompts, making these systems potentially inaccessible to people who lack good literacy skills.\n",
    "\n",
    "Moreover, research has shown that literacy gaps are not just limited to reading comprehension but also extend to digital literacy. A study by the Pew Research Center (2019) highlights that while a majority of Americans have access to digital technology, there is still a notable divide in how well individuals can use these technologies. Digital literacy has a strong correlation with traditional literacy levels, and people with low literacy skills are more likely to struggle with technology-based tasks, including using AI applications.\n",
    "\n",
    "Previous studies on the usability of AI applications have also explored how the design of these systems can either facilitate or hinder interactions with users from diverse literacy backgrounds. Jakob Nielsen, in his article \"Prompt-driven AI UX Hurts Usability\" (2019), emphasizes the challenges posed by text-heavy AI interfaces, which often assume users are proficient in reading and interpreting complex prompts. Nielsen argues that these designs can create usability frictions for people with lower literacy skills, as they require users to navigate AI systems by inputting detailed, language-based queries. The complexity of natural language processing in AI systems often makes them less intuitive for individuals who are not familiar with advanced language constructs or unfamiliar terminology, even if they have basic literacy.\n",
    "\n",
    "Studies such as those by Shneiderman (1994) on “Universal Usability” advocate for the development of interfaces that are designed to be inclusive of all users, regardless of their literacy or cognitive abilities. The idea is to make technology more accessible by employing clear, simple language and alternative methods of interaction, such as voice commands or visual cues. This body of work has contributed to the understanding that AI applications can be designed in ways that reduce friction for users with varying levels of literacy.\n",
    "\n",
    "The findings of these studies provide the foundation for this project. By investigating the literacy rates of adults in the U.S., particularly in the context of the specific literacy required to effectively interact with AI applications, this study aims to identify which demographics are most affected by these gaps. Previous research on the usability of AI systems and their reliance on high levels of literacy informs the decision to focus on this issue, as it highlights the need for AI interfaces that cater to a broader spectrum of literacy skills.\n",
    "\n",
    "References:\n",
    "National Center for Education Statistics (2003). National Assessment of Adult Literacy. https://nces.ed.gov/naal/\n",
    "Pew Research Center (2019). Americans and Digital Knowledge. https://www.pewresearch.org/internet/2019/10/09/americans-and-digital-knowledge/#:~:text=A%20new%20Pew%20Research%20Center,other%20items%20are%20more%20challenging.\n",
    "Nielsen, J. (2019). Prompt-driven AI UX Hurts Usability. https://www.linkedin.com/pulse/prompt-driven-ai-ux-hurts-usability-jakob-nielsen/\n",
    "Shneiderman, B. (2010). Universal Usability. Oxford University Press. https://dl.acm.org/doi/pdf/10.1145/332833.332843"
   ]
  },
  {
   "cell_type": "markdown",
   "id": "9241a301-0988-42f2-95d7-8d1524e6d956",
   "metadata": {},
   "source": [
    "## Data Source \n",
    "The data set that I plan to use is the National Assessment of Adult Literacy which was conducted by \n",
    "National Assessment of Adult Literacy Program (NAALP). This study explores over 19,000 individuals from the \n",
    "United States and hosts interviews specifically to understand their overall literacy. I plan to use this \n",
    "data set because it seems to be the most extensive dataset that I could find specifically on the topic of\n",
    "literacy and is large enough to give me an appropriate insight to the national averages.\n",
    "\n",
    "The dataset specifically contains metadata about the interviewer, the interviewee, the actual interview \n",
    "notes themself (though a bit hard to read in their current format) and components of measured literacy for\n",
    "that specific user. \n",
    "                                                                                                      \n",
    "Link: https://catalog.data.gov/dataset/national-assessment-of-adult-literacy-2003-61d00\n",
    "License: Creative Commons CCZero License (Publicly available data/license)\n",
    "\n",
    "The dataset is suitable for addressing the research goal that I have because it is appropriately measuring\n",
    "a significant sample of adults in the US and measures on a quantitative scale their literacy as well as \n",
    "qualitatively addressing the interviews as an appropriate way to measure their literacy as well. These \n",
    "components I believe make this an appropriate dataset to use for my research goal. The only key concern is \n",
    "that the data was collected in 2003, which may not accurately represent the actual standpoint of the literacy\n",
    "of adults today. With this in mind I will treat the results with caution."
   ]
  },
  {
   "cell_type": "markdown",
   "id": "b53eb044-3c72-4c1d-9d7e-acc8eb19f906",
   "metadata": {},
   "source": [
    "## Methods\n",
    "I will use logistic regression to model the likelihood of individuals being able to effectively use AI applications based on their literacy scores and demographic factors (e.g., age, education, race). Additionally, I will apply chi-square tests to assess the relationships between categorical variables, such as age group and literacy level.\n",
    "\n",
    "I will present the results using bar charts to visualize literacy levels across different demographics, and tables to summarize key relationships. For logistic regression results, I will provide a table with coefficients and odds ratios to demonstrate the relationship between literacy levels and the likelihood of effectively using AI systems.\n",
    "\n",
    "These methods are appropriate because they allow for a clear understanding of how demographic factors and literacy levels influence the ability to interact with AI systems. The logistic regression model is especially suitable for examining binary outcomes, such as whether an individual has the literacy skills to use AI applications effectively. The visualizations will help present the findings in a digestible format for diverse audiences."
   ]
  },
  {
   "cell_type": "markdown",
   "id": "f17ee168-ec37-4cdc-8fe2-5a1f0956cd83",
   "metadata": {},
   "source": [
    "## Unknowns to keep in Mind\n",
    "Unknowns to keep in mind for this project largely have to do with the quality of the data across all 19,000\n",
    "participants. Since the data is a combination of survey and interview, I am unsure of the consistency that \n",
    "we will encounter when exploring the data itself. I am also unsure about the interview process. There can\n",
    "be significant bias that arises when you conduct an interview that guides people to conclusions that \n",
    "they may not necessarily believe with the questions asked. I am unsure of what the interview structure and \n",
    "collection process was like, and therefore am worried about the unknown bias that may be present in the \n",
    "data."
   ]
  },
  {
   "cell_type": "code",
   "execution_count": null,
   "id": "dc3e334a-4570-41a4-a7c5-5d9067d3e7b3",
   "metadata": {},
   "outputs": [],
   "source": []
  },
  {
   "cell_type": "code",
   "execution_count": null,
   "id": "7b9b18b9-94b2-4f8d-b7a0-c5a3a996ba20",
   "metadata": {},
   "outputs": [],
   "source": []
  }
 ],
 "metadata": {
  "kernelspec": {
   "display_name": "Python 3 (ipykernel)",
   "language": "python",
   "name": "python3"
  },
  "language_info": {
   "codemirror_mode": {
    "name": "ipython",
    "version": 3
   },
   "file_extension": ".py",
   "mimetype": "text/x-python",
   "name": "python",
   "nbconvert_exporter": "python",
   "pygments_lexer": "ipython3",
   "version": "3.10.13"
  }
 },
 "nbformat": 4,
 "nbformat_minor": 5
}
